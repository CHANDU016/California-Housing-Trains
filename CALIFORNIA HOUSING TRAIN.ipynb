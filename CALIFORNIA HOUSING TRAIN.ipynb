{
 "cells": [
  {
   "cell_type": "code",
   "execution_count": null,
   "id": "cd8c3837",
   "metadata": {},
   "outputs": [],
   "source": [
    "# calling required libraries"
   ]
  },
  {
   "cell_type": "code",
   "execution_count": 1,
   "id": "25578c24",
   "metadata": {},
   "outputs": [],
   "source": [
    "import numpy as np\n",
    "import pandas as pd\n",
    "import matplotlib.pyplot as plt\n",
    "import seaborn as sns"
   ]
  },
  {
   "cell_type": "code",
   "execution_count": null,
   "id": "0868f2d1",
   "metadata": {},
   "outputs": [],
   "source": [
    "#uploading file"
   ]
  },
  {
   "cell_type": "code",
   "execution_count": 2,
   "id": "d56e14e1",
   "metadata": {},
   "outputs": [],
   "source": [
    "cht = pd.read_csv(\"housing.csv\")"
   ]
  },
  {
   "cell_type": "code",
   "execution_count": 3,
   "id": "332b67bd",
   "metadata": {},
   "outputs": [
    {
     "data": {
      "text/html": [
       "<div>\n",
       "<style scoped>\n",
       "    .dataframe tbody tr th:only-of-type {\n",
       "        vertical-align: middle;\n",
       "    }\n",
       "\n",
       "    .dataframe tbody tr th {\n",
       "        vertical-align: top;\n",
       "    }\n",
       "\n",
       "    .dataframe thead th {\n",
       "        text-align: right;\n",
       "    }\n",
       "</style>\n",
       "<table border=\"1\" class=\"dataframe\">\n",
       "  <thead>\n",
       "    <tr style=\"text-align: right;\">\n",
       "      <th></th>\n",
       "      <th>longitude</th>\n",
       "      <th>latitude</th>\n",
       "      <th>housing_median_age</th>\n",
       "      <th>total_rooms</th>\n",
       "      <th>total_bedrooms</th>\n",
       "      <th>population</th>\n",
       "      <th>households</th>\n",
       "      <th>median_income</th>\n",
       "      <th>median_house_value</th>\n",
       "      <th>ocean_proximity</th>\n",
       "    </tr>\n",
       "  </thead>\n",
       "  <tbody>\n",
       "    <tr>\n",
       "      <th>0</th>\n",
       "      <td>-122.23</td>\n",
       "      <td>37.88</td>\n",
       "      <td>41.0</td>\n",
       "      <td>880.0</td>\n",
       "      <td>129.0</td>\n",
       "      <td>322.0</td>\n",
       "      <td>126.0</td>\n",
       "      <td>8.3252</td>\n",
       "      <td>452600.0</td>\n",
       "      <td>NEAR BAY</td>\n",
       "    </tr>\n",
       "    <tr>\n",
       "      <th>1</th>\n",
       "      <td>-122.22</td>\n",
       "      <td>37.86</td>\n",
       "      <td>21.0</td>\n",
       "      <td>7099.0</td>\n",
       "      <td>1106.0</td>\n",
       "      <td>2401.0</td>\n",
       "      <td>1138.0</td>\n",
       "      <td>8.3014</td>\n",
       "      <td>358500.0</td>\n",
       "      <td>NEAR BAY</td>\n",
       "    </tr>\n",
       "    <tr>\n",
       "      <th>2</th>\n",
       "      <td>-122.24</td>\n",
       "      <td>37.85</td>\n",
       "      <td>52.0</td>\n",
       "      <td>1467.0</td>\n",
       "      <td>190.0</td>\n",
       "      <td>496.0</td>\n",
       "      <td>177.0</td>\n",
       "      <td>7.2574</td>\n",
       "      <td>352100.0</td>\n",
       "      <td>NEAR BAY</td>\n",
       "    </tr>\n",
       "    <tr>\n",
       "      <th>3</th>\n",
       "      <td>-122.25</td>\n",
       "      <td>37.85</td>\n",
       "      <td>52.0</td>\n",
       "      <td>1274.0</td>\n",
       "      <td>235.0</td>\n",
       "      <td>558.0</td>\n",
       "      <td>219.0</td>\n",
       "      <td>5.6431</td>\n",
       "      <td>341300.0</td>\n",
       "      <td>NEAR BAY</td>\n",
       "    </tr>\n",
       "    <tr>\n",
       "      <th>4</th>\n",
       "      <td>-122.25</td>\n",
       "      <td>37.85</td>\n",
       "      <td>52.0</td>\n",
       "      <td>1627.0</td>\n",
       "      <td>280.0</td>\n",
       "      <td>565.0</td>\n",
       "      <td>259.0</td>\n",
       "      <td>3.8462</td>\n",
       "      <td>342200.0</td>\n",
       "      <td>NEAR BAY</td>\n",
       "    </tr>\n",
       "  </tbody>\n",
       "</table>\n",
       "</div>"
      ],
      "text/plain": [
       "   longitude  latitude  housing_median_age  total_rooms  total_bedrooms  \\\n",
       "0    -122.23     37.88                41.0        880.0           129.0   \n",
       "1    -122.22     37.86                21.0       7099.0          1106.0   \n",
       "2    -122.24     37.85                52.0       1467.0           190.0   \n",
       "3    -122.25     37.85                52.0       1274.0           235.0   \n",
       "4    -122.25     37.85                52.0       1627.0           280.0   \n",
       "\n",
       "   population  households  median_income  median_house_value ocean_proximity  \n",
       "0       322.0       126.0         8.3252            452600.0        NEAR BAY  \n",
       "1      2401.0      1138.0         8.3014            358500.0        NEAR BAY  \n",
       "2       496.0       177.0         7.2574            352100.0        NEAR BAY  \n",
       "3       558.0       219.0         5.6431            341300.0        NEAR BAY  \n",
       "4       565.0       259.0         3.8462            342200.0        NEAR BAY  "
      ]
     },
     "execution_count": 3,
     "metadata": {},
     "output_type": "execute_result"
    }
   ],
   "source": [
    "cht.head()"
   ]
  },
  {
   "cell_type": "code",
   "execution_count": null,
   "id": "f7120e10",
   "metadata": {},
   "outputs": [],
   "source": [
    "# Details of data set"
   ]
  },
  {
   "cell_type": "code",
   "execution_count": 4,
   "id": "532db2fa",
   "metadata": {
    "scrolled": true
   },
   "outputs": [
    {
     "name": "stdout",
     "output_type": "stream",
     "text": [
      "<class 'pandas.core.frame.DataFrame'>\n",
      "RangeIndex: 20640 entries, 0 to 20639\n",
      "Data columns (total 10 columns):\n",
      " #   Column              Non-Null Count  Dtype  \n",
      "---  ------              --------------  -----  \n",
      " 0   longitude           20640 non-null  float64\n",
      " 1   latitude            20640 non-null  float64\n",
      " 2   housing_median_age  20640 non-null  float64\n",
      " 3   total_rooms         20640 non-null  float64\n",
      " 4   total_bedrooms      20433 non-null  float64\n",
      " 5   population          20640 non-null  float64\n",
      " 6   households          20640 non-null  float64\n",
      " 7   median_income       20640 non-null  float64\n",
      " 8   median_house_value  20640 non-null  float64\n",
      " 9   ocean_proximity     20640 non-null  object \n",
      "dtypes: float64(9), object(1)\n",
      "memory usage: 1.6+ MB\n"
     ]
    }
   ],
   "source": [
    "cht.info()"
   ]
  },
  {
   "cell_type": "code",
   "execution_count": 5,
   "id": "9d36bdfc",
   "metadata": {},
   "outputs": [
    {
     "data": {
      "text/plain": [
       "longitude               0\n",
       "latitude                0\n",
       "housing_median_age      0\n",
       "total_rooms             0\n",
       "total_bedrooms        207\n",
       "population              0\n",
       "households              0\n",
       "median_income           0\n",
       "median_house_value      0\n",
       "ocean_proximity         0\n",
       "dtype: int64"
      ]
     },
     "execution_count": 5,
     "metadata": {},
     "output_type": "execute_result"
    }
   ],
   "source": [
    "cht.isnull().sum()"
   ]
  },
  {
   "cell_type": "code",
   "execution_count": null,
   "id": "c2394408",
   "metadata": {},
   "outputs": [],
   "source": [
    "# Dropping missing values"
   ]
  },
  {
   "cell_type": "code",
   "execution_count": 6,
   "id": "d671ea40",
   "metadata": {},
   "outputs": [
    {
     "data": {
      "text/html": [
       "<div>\n",
       "<style scoped>\n",
       "    .dataframe tbody tr th:only-of-type {\n",
       "        vertical-align: middle;\n",
       "    }\n",
       "\n",
       "    .dataframe tbody tr th {\n",
       "        vertical-align: top;\n",
       "    }\n",
       "\n",
       "    .dataframe thead th {\n",
       "        text-align: right;\n",
       "    }\n",
       "</style>\n",
       "<table border=\"1\" class=\"dataframe\">\n",
       "  <thead>\n",
       "    <tr style=\"text-align: right;\">\n",
       "      <th></th>\n",
       "      <th>longitude</th>\n",
       "      <th>latitude</th>\n",
       "      <th>housing_median_age</th>\n",
       "      <th>total_rooms</th>\n",
       "      <th>total_bedrooms</th>\n",
       "      <th>population</th>\n",
       "      <th>households</th>\n",
       "      <th>median_income</th>\n",
       "      <th>median_house_value</th>\n",
       "      <th>ocean_proximity</th>\n",
       "    </tr>\n",
       "  </thead>\n",
       "  <tbody>\n",
       "    <tr>\n",
       "      <th>0</th>\n",
       "      <td>-122.23</td>\n",
       "      <td>37.88</td>\n",
       "      <td>41.0</td>\n",
       "      <td>880.0</td>\n",
       "      <td>129.0</td>\n",
       "      <td>322.0</td>\n",
       "      <td>126.0</td>\n",
       "      <td>8.3252</td>\n",
       "      <td>452600.0</td>\n",
       "      <td>NEAR BAY</td>\n",
       "    </tr>\n",
       "    <tr>\n",
       "      <th>1</th>\n",
       "      <td>-122.22</td>\n",
       "      <td>37.86</td>\n",
       "      <td>21.0</td>\n",
       "      <td>7099.0</td>\n",
       "      <td>1106.0</td>\n",
       "      <td>2401.0</td>\n",
       "      <td>1138.0</td>\n",
       "      <td>8.3014</td>\n",
       "      <td>358500.0</td>\n",
       "      <td>NEAR BAY</td>\n",
       "    </tr>\n",
       "    <tr>\n",
       "      <th>2</th>\n",
       "      <td>-122.24</td>\n",
       "      <td>37.85</td>\n",
       "      <td>52.0</td>\n",
       "      <td>1467.0</td>\n",
       "      <td>190.0</td>\n",
       "      <td>496.0</td>\n",
       "      <td>177.0</td>\n",
       "      <td>7.2574</td>\n",
       "      <td>352100.0</td>\n",
       "      <td>NEAR BAY</td>\n",
       "    </tr>\n",
       "    <tr>\n",
       "      <th>3</th>\n",
       "      <td>-122.25</td>\n",
       "      <td>37.85</td>\n",
       "      <td>52.0</td>\n",
       "      <td>1274.0</td>\n",
       "      <td>235.0</td>\n",
       "      <td>558.0</td>\n",
       "      <td>219.0</td>\n",
       "      <td>5.6431</td>\n",
       "      <td>341300.0</td>\n",
       "      <td>NEAR BAY</td>\n",
       "    </tr>\n",
       "    <tr>\n",
       "      <th>4</th>\n",
       "      <td>-122.25</td>\n",
       "      <td>37.85</td>\n",
       "      <td>52.0</td>\n",
       "      <td>1627.0</td>\n",
       "      <td>280.0</td>\n",
       "      <td>565.0</td>\n",
       "      <td>259.0</td>\n",
       "      <td>3.8462</td>\n",
       "      <td>342200.0</td>\n",
       "      <td>NEAR BAY</td>\n",
       "    </tr>\n",
       "    <tr>\n",
       "      <th>...</th>\n",
       "      <td>...</td>\n",
       "      <td>...</td>\n",
       "      <td>...</td>\n",
       "      <td>...</td>\n",
       "      <td>...</td>\n",
       "      <td>...</td>\n",
       "      <td>...</td>\n",
       "      <td>...</td>\n",
       "      <td>...</td>\n",
       "      <td>...</td>\n",
       "    </tr>\n",
       "    <tr>\n",
       "      <th>20635</th>\n",
       "      <td>-121.09</td>\n",
       "      <td>39.48</td>\n",
       "      <td>25.0</td>\n",
       "      <td>1665.0</td>\n",
       "      <td>374.0</td>\n",
       "      <td>845.0</td>\n",
       "      <td>330.0</td>\n",
       "      <td>1.5603</td>\n",
       "      <td>78100.0</td>\n",
       "      <td>INLAND</td>\n",
       "    </tr>\n",
       "    <tr>\n",
       "      <th>20636</th>\n",
       "      <td>-121.21</td>\n",
       "      <td>39.49</td>\n",
       "      <td>18.0</td>\n",
       "      <td>697.0</td>\n",
       "      <td>150.0</td>\n",
       "      <td>356.0</td>\n",
       "      <td>114.0</td>\n",
       "      <td>2.5568</td>\n",
       "      <td>77100.0</td>\n",
       "      <td>INLAND</td>\n",
       "    </tr>\n",
       "    <tr>\n",
       "      <th>20637</th>\n",
       "      <td>-121.22</td>\n",
       "      <td>39.43</td>\n",
       "      <td>17.0</td>\n",
       "      <td>2254.0</td>\n",
       "      <td>485.0</td>\n",
       "      <td>1007.0</td>\n",
       "      <td>433.0</td>\n",
       "      <td>1.7000</td>\n",
       "      <td>92300.0</td>\n",
       "      <td>INLAND</td>\n",
       "    </tr>\n",
       "    <tr>\n",
       "      <th>20638</th>\n",
       "      <td>-121.32</td>\n",
       "      <td>39.43</td>\n",
       "      <td>18.0</td>\n",
       "      <td>1860.0</td>\n",
       "      <td>409.0</td>\n",
       "      <td>741.0</td>\n",
       "      <td>349.0</td>\n",
       "      <td>1.8672</td>\n",
       "      <td>84700.0</td>\n",
       "      <td>INLAND</td>\n",
       "    </tr>\n",
       "    <tr>\n",
       "      <th>20639</th>\n",
       "      <td>-121.24</td>\n",
       "      <td>39.37</td>\n",
       "      <td>16.0</td>\n",
       "      <td>2785.0</td>\n",
       "      <td>616.0</td>\n",
       "      <td>1387.0</td>\n",
       "      <td>530.0</td>\n",
       "      <td>2.3886</td>\n",
       "      <td>89400.0</td>\n",
       "      <td>INLAND</td>\n",
       "    </tr>\n",
       "  </tbody>\n",
       "</table>\n",
       "<p>20433 rows × 10 columns</p>\n",
       "</div>"
      ],
      "text/plain": [
       "       longitude  latitude  housing_median_age  total_rooms  total_bedrooms  \\\n",
       "0        -122.23     37.88                41.0        880.0           129.0   \n",
       "1        -122.22     37.86                21.0       7099.0          1106.0   \n",
       "2        -122.24     37.85                52.0       1467.0           190.0   \n",
       "3        -122.25     37.85                52.0       1274.0           235.0   \n",
       "4        -122.25     37.85                52.0       1627.0           280.0   \n",
       "...          ...       ...                 ...          ...             ...   \n",
       "20635    -121.09     39.48                25.0       1665.0           374.0   \n",
       "20636    -121.21     39.49                18.0        697.0           150.0   \n",
       "20637    -121.22     39.43                17.0       2254.0           485.0   \n",
       "20638    -121.32     39.43                18.0       1860.0           409.0   \n",
       "20639    -121.24     39.37                16.0       2785.0           616.0   \n",
       "\n",
       "       population  households  median_income  median_house_value  \\\n",
       "0           322.0       126.0         8.3252            452600.0   \n",
       "1          2401.0      1138.0         8.3014            358500.0   \n",
       "2           496.0       177.0         7.2574            352100.0   \n",
       "3           558.0       219.0         5.6431            341300.0   \n",
       "4           565.0       259.0         3.8462            342200.0   \n",
       "...           ...         ...            ...                 ...   \n",
       "20635       845.0       330.0         1.5603             78100.0   \n",
       "20636       356.0       114.0         2.5568             77100.0   \n",
       "20637      1007.0       433.0         1.7000             92300.0   \n",
       "20638       741.0       349.0         1.8672             84700.0   \n",
       "20639      1387.0       530.0         2.3886             89400.0   \n",
       "\n",
       "      ocean_proximity  \n",
       "0            NEAR BAY  \n",
       "1            NEAR BAY  \n",
       "2            NEAR BAY  \n",
       "3            NEAR BAY  \n",
       "4            NEAR BAY  \n",
       "...               ...  \n",
       "20635          INLAND  \n",
       "20636          INLAND  \n",
       "20637          INLAND  \n",
       "20638          INLAND  \n",
       "20639          INLAND  \n",
       "\n",
       "[20433 rows x 10 columns]"
      ]
     },
     "execution_count": 6,
     "metadata": {},
     "output_type": "execute_result"
    }
   ],
   "source": [
    "cht.dropna()"
   ]
  },
  {
   "cell_type": "code",
   "execution_count": 7,
   "id": "c6f5e2df",
   "metadata": {},
   "outputs": [
    {
     "data": {
      "text/plain": [
       "array(['NEAR BAY', '<1H OCEAN', 'INLAND', 'NEAR OCEAN', 'ISLAND'],\n",
       "      dtype=object)"
      ]
     },
     "execution_count": 7,
     "metadata": {},
     "output_type": "execute_result"
    }
   ],
   "source": [
    "cht['ocean_proximity'].unique()"
   ]
  },
  {
   "cell_type": "code",
   "execution_count": 8,
   "id": "2fbc7742",
   "metadata": {},
   "outputs": [],
   "source": [
    "chff = cht.drop(['ocean_proximity'], axis=1)"
   ]
  },
  {
   "cell_type": "code",
   "execution_count": 9,
   "id": "504dc61b",
   "metadata": {},
   "outputs": [
    {
     "data": {
      "text/plain": [
       "longitude             0.069608\n",
       "latitude             -0.066983\n",
       "housing_median_age   -0.320451\n",
       "total_rooms           0.930380\n",
       "total_bedrooms        1.000000\n",
       "population            0.877747\n",
       "households            0.979728\n",
       "median_income        -0.007723\n",
       "median_house_value    0.049686\n",
       "Name: total_bedrooms, dtype: float64"
      ]
     },
     "execution_count": 9,
     "metadata": {},
     "output_type": "execute_result"
    }
   ],
   "source": [
    "chff.corr()['total_bedrooms']"
   ]
  },
  {
   "cell_type": "code",
   "execution_count": 10,
   "id": "a6bf6cad",
   "metadata": {},
   "outputs": [
    {
     "data": {
      "text/html": [
       "<div>\n",
       "<style scoped>\n",
       "    .dataframe tbody tr th:only-of-type {\n",
       "        vertical-align: middle;\n",
       "    }\n",
       "\n",
       "    .dataframe tbody tr th {\n",
       "        vertical-align: top;\n",
       "    }\n",
       "\n",
       "    .dataframe thead th {\n",
       "        text-align: right;\n",
       "    }\n",
       "</style>\n",
       "<table border=\"1\" class=\"dataframe\">\n",
       "  <thead>\n",
       "    <tr style=\"text-align: right;\">\n",
       "      <th></th>\n",
       "      <th>longitude</th>\n",
       "      <th>latitude</th>\n",
       "      <th>housing_median_age</th>\n",
       "      <th>total_rooms</th>\n",
       "      <th>total_bedrooms</th>\n",
       "      <th>population</th>\n",
       "      <th>households</th>\n",
       "      <th>median_income</th>\n",
       "      <th>median_house_value</th>\n",
       "      <th>ocean_proximity</th>\n",
       "    </tr>\n",
       "  </thead>\n",
       "  <tbody>\n",
       "    <tr>\n",
       "      <th>0</th>\n",
       "      <td>-122.23</td>\n",
       "      <td>37.88</td>\n",
       "      <td>41.0</td>\n",
       "      <td>880.0</td>\n",
       "      <td>129.0</td>\n",
       "      <td>322.0</td>\n",
       "      <td>126.0</td>\n",
       "      <td>8.3252</td>\n",
       "      <td>452600.0</td>\n",
       "      <td>NEAR BAY</td>\n",
       "    </tr>\n",
       "  </tbody>\n",
       "</table>\n",
       "</div>"
      ],
      "text/plain": [
       "   longitude  latitude  housing_median_age  total_rooms  total_bedrooms  \\\n",
       "0    -122.23     37.88                41.0        880.0           129.0   \n",
       "\n",
       "   population  households  median_income  median_house_value ocean_proximity  \n",
       "0       322.0       126.0         8.3252            452600.0        NEAR BAY  "
      ]
     },
     "execution_count": 10,
     "metadata": {},
     "output_type": "execute_result"
    }
   ],
   "source": [
    "cht.head(1)"
   ]
  },
  {
   "cell_type": "code",
   "execution_count": null,
   "id": "14c6bfe9",
   "metadata": {},
   "outputs": [],
   "source": [
    "# removing the unwanted labeles"
   ]
  },
  {
   "cell_type": "code",
   "execution_count": 11,
   "id": "e54cb69f",
   "metadata": {},
   "outputs": [
    {
     "data": {
      "text/html": [
       "<div>\n",
       "<style scoped>\n",
       "    .dataframe tbody tr th:only-of-type {\n",
       "        vertical-align: middle;\n",
       "    }\n",
       "\n",
       "    .dataframe tbody tr th {\n",
       "        vertical-align: top;\n",
       "    }\n",
       "\n",
       "    .dataframe thead th {\n",
       "        text-align: right;\n",
       "    }\n",
       "</style>\n",
       "<table border=\"1\" class=\"dataframe\">\n",
       "  <thead>\n",
       "    <tr style=\"text-align: right;\">\n",
       "      <th></th>\n",
       "      <th>total_rooms</th>\n",
       "      <th>total_bedrooms</th>\n",
       "      <th>population</th>\n",
       "      <th>households</th>\n",
       "    </tr>\n",
       "  </thead>\n",
       "  <tbody>\n",
       "    <tr>\n",
       "      <th>0</th>\n",
       "      <td>880.0</td>\n",
       "      <td>129.0</td>\n",
       "      <td>322.0</td>\n",
       "      <td>126.0</td>\n",
       "    </tr>\n",
       "    <tr>\n",
       "      <th>1</th>\n",
       "      <td>7099.0</td>\n",
       "      <td>1106.0</td>\n",
       "      <td>2401.0</td>\n",
       "      <td>1138.0</td>\n",
       "    </tr>\n",
       "    <tr>\n",
       "      <th>2</th>\n",
       "      <td>1467.0</td>\n",
       "      <td>190.0</td>\n",
       "      <td>496.0</td>\n",
       "      <td>177.0</td>\n",
       "    </tr>\n",
       "    <tr>\n",
       "      <th>3</th>\n",
       "      <td>1274.0</td>\n",
       "      <td>235.0</td>\n",
       "      <td>558.0</td>\n",
       "      <td>219.0</td>\n",
       "    </tr>\n",
       "    <tr>\n",
       "      <th>4</th>\n",
       "      <td>1627.0</td>\n",
       "      <td>280.0</td>\n",
       "      <td>565.0</td>\n",
       "      <td>259.0</td>\n",
       "    </tr>\n",
       "  </tbody>\n",
       "</table>\n",
       "</div>"
      ],
      "text/plain": [
       "   total_rooms  total_bedrooms  population  households\n",
       "0        880.0           129.0       322.0       126.0\n",
       "1       7099.0          1106.0      2401.0      1138.0\n",
       "2       1467.0           190.0       496.0       177.0\n",
       "3       1274.0           235.0       558.0       219.0\n",
       "4       1627.0           280.0       565.0       259.0"
      ]
     },
     "execution_count": 11,
     "metadata": {},
     "output_type": "execute_result"
    }
   ],
   "source": [
    "cht = cht.drop(['longitude','latitude','housing_median_age','median_income','median_house_value','ocean_proximity'], axis=1)\n",
    "cht.head()"
   ]
  },
  {
   "cell_type": "code",
   "execution_count": null,
   "id": "4e6ae284",
   "metadata": {},
   "outputs": [],
   "source": [
    "# Correlation between and relation between the labels"
   ]
  },
  {
   "cell_type": "code",
   "execution_count": 12,
   "id": "c0a1d1d8",
   "metadata": {},
   "outputs": [
    {
     "data": {
      "image/png": "[encoded data removed]",
      "text/plain": [
       "<Figure size 640x480 with 1 Axes>"
      ]
     },
     "metadata": {},
     "output_type": "display_data"
    }
   ],
   "source": [
    "\n",
    "plt.scatter(cht['total_rooms'],cht['total_bedrooms'])\n",
    "plt.xlabel(\"TOTAL ROOMS\")\n",
    "plt.ylabel(\"TOTAL BED-ROOMS\")\n",
    "plt.show()"
   ]
  },
  {
   "cell_type": "code",
   "execution_count": 13,
   "id": "0c46b38f",
   "metadata": {},
   "outputs": [
    {
     "data": {
      "image/png": "[encoded data removed]",
      "text/plain": [
       "<Figure size 640x480 with 1 Axes>"
      ]
     },
     "metadata": {},
     "output_type": "display_data"
    }
   ],
   "source": [
    "plt.scatter(cht.population,cht.total_bedrooms)\n",
    "plt.xlabel(\"POPULATION\")\n",
    "plt.ylabel(\"TOTAL BEDROOM\")\n",
    "plt.show()"
   ]
  },
  {
   "cell_type": "code",
   "execution_count": 14,
   "id": "20dd4b57",
   "metadata": {},
   "outputs": [
    {
     "data": {
      "image/png": "[encoded data removed]",
      "text/plain": [
       "<Figure size 640x480 with 1 Axes>"
      ]
     },
     "metadata": {},
     "output_type": "display_data"
    }
   ],
   "source": [
    "plt.scatter(cht.households,cht.total_bedrooms)\n",
    "plt.xlabel(\"HOUSEHOLDS\")\n",
    "plt.ylabel(\"TOTAL BEDROOM\")\n",
    "plt.show()"
   ]
  },
  {
   "cell_type": "code",
   "execution_count": 15,
   "id": "1957c432",
   "metadata": {},
   "outputs": [
    {
     "data": {
      "text/html": [
       "<div>\n",
       "<style scoped>\n",
       "    .dataframe tbody tr th:only-of-type {\n",
       "        vertical-align: middle;\n",
       "    }\n",
       "\n",
       "    .dataframe tbody tr th {\n",
       "        vertical-align: top;\n",
       "    }\n",
       "\n",
       "    .dataframe thead th {\n",
       "        text-align: right;\n",
       "    }\n",
       "</style>\n",
       "<table border=\"1\" class=\"dataframe\">\n",
       "  <thead>\n",
       "    <tr style=\"text-align: right;\">\n",
       "      <th></th>\n",
       "      <th>total_rooms</th>\n",
       "      <th>total_bedrooms</th>\n",
       "      <th>population</th>\n",
       "      <th>households</th>\n",
       "    </tr>\n",
       "  </thead>\n",
       "  <tbody>\n",
       "    <tr>\n",
       "      <th>0</th>\n",
       "      <td>880.0</td>\n",
       "      <td>129.0</td>\n",
       "      <td>322.0</td>\n",
       "      <td>126.0</td>\n",
       "    </tr>\n",
       "  </tbody>\n",
       "</table>\n",
       "</div>"
      ],
      "text/plain": [
       "   total_rooms  total_bedrooms  population  households\n",
       "0        880.0           129.0       322.0       126.0"
      ]
     },
     "execution_count": 15,
     "metadata": {},
     "output_type": "execute_result"
    }
   ],
   "source": [
    "cht.head(1)"
   ]
  },
  {
   "cell_type": "code",
   "execution_count": 16,
   "id": "2e4ce262",
   "metadata": {},
   "outputs": [
    {
     "data": {
      "text/plain": [
       "total_rooms         0\n",
       "total_bedrooms    207\n",
       "population          0\n",
       "households          0\n",
       "dtype: int64"
      ]
     },
     "execution_count": 16,
     "metadata": {},
     "output_type": "execute_result"
    }
   ],
   "source": [
    "cht.isnull().sum()"
   ]
  },
  {
   "cell_type": "code",
   "execution_count": 17,
   "id": "5acb13f4",
   "metadata": {},
   "outputs": [],
   "source": [
    "chtt =cht.dropna()"
   ]
  },
  {
   "cell_type": "code",
   "execution_count": 18,
   "id": "9ae18d79",
   "metadata": {},
   "outputs": [
    {
     "data": {
      "text/plain": [
       "(20433, 4)"
      ]
     },
     "execution_count": 18,
     "metadata": {},
     "output_type": "execute_result"
    }
   ],
   "source": [
    "chtt.shape"
   ]
  },
  {
   "cell_type": "code",
   "execution_count": null,
   "id": "f085b0c0",
   "metadata": {},
   "outputs": [],
   "source": [
    "# converting the numeric data to numpy array"
   ]
  },
  {
   "cell_type": "code",
   "execution_count": 19,
   "id": "a1be1d6e",
   "metadata": {},
   "outputs": [
    {
     "data": {
      "text/plain": [
       "(20433, 4)"
      ]
     },
     "execution_count": 19,
     "metadata": {},
     "output_type": "execute_result"
    }
   ],
   "source": [
    "##converted to matrix\n",
    "chtt_np = chtt.to_numpy()\n",
    "chtt_np.shape"
   ]
  },
  {
   "cell_type": "code",
   "execution_count": null,
   "id": "e8e0a136",
   "metadata": {},
   "outputs": [],
   "source": [
    "# calling the Linear Regression library"
   ]
  },
  {
   "cell_type": "code",
   "execution_count": 20,
   "id": "b29125fb",
   "metadata": {},
   "outputs": [],
   "source": [
    "from sklearn.linear_model import LinearRegression"
   ]
  },
  {
   "cell_type": "code",
   "execution_count": 21,
   "id": "a984a67d",
   "metadata": {},
   "outputs": [],
   "source": [
    "sk = LinearRegression()"
   ]
  },
  {
   "cell_type": "code",
   "execution_count": 22,
   "id": "88e320a8",
   "metadata": {},
   "outputs": [
    {
     "data": {
      "text/plain": [
       "((20433, 3), (20433,))"
      ]
     },
     "execution_count": 22,
     "metadata": {},
     "output_type": "execute_result"
    }
   ],
   "source": [
    "x_train, y_train = chtt_np[:,:3],chtt_np[:,-1]\n",
    "x_train.shape,y_train.shape"
   ]
  },
  {
   "cell_type": "code",
   "execution_count": 23,
   "id": "47df72ae",
   "metadata": {},
   "outputs": [],
   "source": [
    "ir =sk.fit(x_train,y_train)"
   ]
  },
  {
   "cell_type": "code",
   "execution_count": 24,
   "id": "cab306a1",
   "metadata": {},
   "outputs": [
    {
     "data": {
      "text/plain": [
       "array([126.11910275, 976.82131786, 182.07650357, ..., 432.12467475,\n",
       "       358.55770246, 553.63055043])"
      ]
     },
     "execution_count": 24,
     "metadata": {},
     "output_type": "execute_result"
    }
   ],
   "source": [
    "predict = ir.predict(x_train)\n",
    "predict"
   ]
  },
  {
   "cell_type": "code",
   "execution_count": 25,
   "id": "c9f56caf",
   "metadata": {},
   "outputs": [
    {
     "data": {
      "text/plain": [
       "(33.703807558455004, 4444.00498290698)"
      ]
     },
     "execution_count": 25,
     "metadata": {},
     "output_type": "execute_result"
    }
   ],
   "source": [
    "from sklearn.metrics import mean_absolute_error,mean_squared_error\n",
    "mean_absolute_error(predict,y_train),mean_squared_error(predict,y_train)"
   ]
  },
  {
   "cell_type": "code",
   "execution_count": 26,
   "id": "67a78db3",
   "metadata": {},
   "outputs": [
    {
     "data": {
      "text/html": [
       "<div>\n",
       "<style scoped>\n",
       "    .dataframe tbody tr th:only-of-type {\n",
       "        vertical-align: middle;\n",
       "    }\n",
       "\n",
       "    .dataframe tbody tr th {\n",
       "        vertical-align: top;\n",
       "    }\n",
       "\n",
       "    .dataframe thead th {\n",
       "        text-align: right;\n",
       "    }\n",
       "</style>\n",
       "<table border=\"1\" class=\"dataframe\">\n",
       "  <thead>\n",
       "    <tr style=\"text-align: right;\">\n",
       "      <th></th>\n",
       "      <th>Population</th>\n",
       "      <th>Households</th>\n",
       "      <th>Total beadrooms</th>\n",
       "      <th>Bedroom prediction</th>\n",
       "    </tr>\n",
       "  </thead>\n",
       "  <tbody>\n",
       "    <tr>\n",
       "      <th>0</th>\n",
       "      <td>322.0</td>\n",
       "      <td>126.0</td>\n",
       "      <td>129.0</td>\n",
       "      <td>126.119103</td>\n",
       "    </tr>\n",
       "    <tr>\n",
       "      <th>1</th>\n",
       "      <td>2401.0</td>\n",
       "      <td>1138.0</td>\n",
       "      <td>1106.0</td>\n",
       "      <td>976.821318</td>\n",
       "    </tr>\n",
       "    <tr>\n",
       "      <th>2</th>\n",
       "      <td>496.0</td>\n",
       "      <td>177.0</td>\n",
       "      <td>190.0</td>\n",
       "      <td>182.076504</td>\n",
       "    </tr>\n",
       "    <tr>\n",
       "      <th>3</th>\n",
       "      <td>558.0</td>\n",
       "      <td>219.0</td>\n",
       "      <td>235.0</td>\n",
       "      <td>219.488945</td>\n",
       "    </tr>\n",
       "    <tr>\n",
       "      <th>4</th>\n",
       "      <td>565.0</td>\n",
       "      <td>259.0</td>\n",
       "      <td>280.0</td>\n",
       "      <td>252.392293</td>\n",
       "    </tr>\n",
       "    <tr>\n",
       "      <th>...</th>\n",
       "      <td>...</td>\n",
       "      <td>...</td>\n",
       "      <td>...</td>\n",
       "      <td>...</td>\n",
       "    </tr>\n",
       "    <tr>\n",
       "      <th>20635</th>\n",
       "      <td>845.0</td>\n",
       "      <td>330.0</td>\n",
       "      <td>374.0</td>\n",
       "      <td>340.511380</td>\n",
       "    </tr>\n",
       "    <tr>\n",
       "      <th>20636</th>\n",
       "      <td>356.0</td>\n",
       "      <td>114.0</td>\n",
       "      <td>150.0</td>\n",
       "      <td>144.045819</td>\n",
       "    </tr>\n",
       "    <tr>\n",
       "      <th>20637</th>\n",
       "      <td>1007.0</td>\n",
       "      <td>433.0</td>\n",
       "      <td>485.0</td>\n",
       "      <td>432.124675</td>\n",
       "    </tr>\n",
       "    <tr>\n",
       "      <th>20638</th>\n",
       "      <td>741.0</td>\n",
       "      <td>349.0</td>\n",
       "      <td>409.0</td>\n",
       "      <td>358.557702</td>\n",
       "    </tr>\n",
       "    <tr>\n",
       "      <th>20639</th>\n",
       "      <td>1387.0</td>\n",
       "      <td>530.0</td>\n",
       "      <td>616.0</td>\n",
       "      <td>553.630550</td>\n",
       "    </tr>\n",
       "  </tbody>\n",
       "</table>\n",
       "<p>20433 rows × 4 columns</p>\n",
       "</div>"
      ],
      "text/plain": [
       "       Population  Households  Total beadrooms  Bedroom prediction\n",
       "0           322.0       126.0            129.0          126.119103\n",
       "1          2401.0      1138.0           1106.0          976.821318\n",
       "2           496.0       177.0            190.0          182.076504\n",
       "3           558.0       219.0            235.0          219.488945\n",
       "4           565.0       259.0            280.0          252.392293\n",
       "...           ...         ...              ...                 ...\n",
       "20635       845.0       330.0            374.0          340.511380\n",
       "20636       356.0       114.0            150.0          144.045819\n",
       "20637      1007.0       433.0            485.0          432.124675\n",
       "20638       741.0       349.0            409.0          358.557702\n",
       "20639      1387.0       530.0            616.0          553.630550\n",
       "\n",
       "[20433 rows x 4 columns]"
      ]
     },
     "execution_count": 26,
     "metadata": {},
     "output_type": "execute_result"
    }
   ],
   "source": [
    "prediction = pd.DataFrame({'Population' :chtt['population'],\n",
    "                          'Households': chtt['households'],\n",
    "                                         'Total beadrooms':chtt['total_bedrooms'],\n",
    "                                         'Bedroom prediction':predict})\n",
    "\n",
    "                                           \n",
    "                                           \n",
    "prediction                                           \n",
    "                           \n",
    "                           "
   ]
  },
  {
   "cell_type": "code",
   "execution_count": null,
   "id": "3fe19875",
   "metadata": {},
   "outputs": [],
   "source": [
    "## converting the data set nto Maxtrix form  AI * X = Y to get multi linear regression"
   ]
  },
  {
   "cell_type": "code",
   "execution_count": 27,
   "id": "2c69afc0",
   "metadata": {},
   "outputs": [],
   "source": [
    "def get_predictions(model,X):\n",
    "    (n,p_minus_one) =X.shape\n",
    "    p = p_minus_one + 1\n",
    "    \n",
    "    new_X = np.ones(shape=(n,p))\n",
    "    new_X[:,1:] = X\n",
    "    \n",
    "    return np.dot(new_X, model)\n",
    "    "
   ]
  },
  {
   "cell_type": "code",
   "execution_count": 28,
   "id": "fd8eeb5e",
   "metadata": {},
   "outputs": [
    {
     "data": {
      "text/plain": [
       "(20433,)"
      ]
     },
     "execution_count": 28,
     "metadata": {},
     "output_type": "execute_result"
    }
   ],
   "source": [
    "test_model = np.array([1,1/2,1/3,1.2\n",
    "                      ])\n",
    "\n",
    "get_predictions(test_model,x_train).shape"
   ]
  },
  {
   "cell_type": "code",
   "execution_count": 29,
   "id": "8957fc0a",
   "metadata": {},
   "outputs": [
    {
     "data": {
      "text/html": [
       "<div>\n",
       "<style scoped>\n",
       "    .dataframe tbody tr th:only-of-type {\n",
       "        vertical-align: middle;\n",
       "    }\n",
       "\n",
       "    .dataframe tbody tr th {\n",
       "        vertical-align: top;\n",
       "    }\n",
       "\n",
       "    .dataframe thead th {\n",
       "        text-align: right;\n",
       "    }\n",
       "</style>\n",
       "<table border=\"1\" class=\"dataframe\">\n",
       "  <thead>\n",
       "    <tr style=\"text-align: right;\">\n",
       "      <th></th>\n",
       "      <th>Population</th>\n",
       "      <th>Households</th>\n",
       "      <th>Total beadrooms</th>\n",
       "      <th>Bedroom prediction</th>\n",
       "      <th>Test prediction</th>\n",
       "    </tr>\n",
       "  </thead>\n",
       "  <tbody>\n",
       "    <tr>\n",
       "      <th>0</th>\n",
       "      <td>322.0</td>\n",
       "      <td>126.0</td>\n",
       "      <td>129.0</td>\n",
       "      <td>126.119103</td>\n",
       "      <td>870.400000</td>\n",
       "    </tr>\n",
       "    <tr>\n",
       "      <th>1</th>\n",
       "      <td>2401.0</td>\n",
       "      <td>1138.0</td>\n",
       "      <td>1106.0</td>\n",
       "      <td>976.821318</td>\n",
       "      <td>6800.366667</td>\n",
       "    </tr>\n",
       "    <tr>\n",
       "      <th>2</th>\n",
       "      <td>496.0</td>\n",
       "      <td>177.0</td>\n",
       "      <td>190.0</td>\n",
       "      <td>182.076504</td>\n",
       "      <td>1393.033333</td>\n",
       "    </tr>\n",
       "    <tr>\n",
       "      <th>3</th>\n",
       "      <td>558.0</td>\n",
       "      <td>219.0</td>\n",
       "      <td>235.0</td>\n",
       "      <td>219.488945</td>\n",
       "      <td>1385.933333</td>\n",
       "    </tr>\n",
       "    <tr>\n",
       "      <th>4</th>\n",
       "      <td>565.0</td>\n",
       "      <td>259.0</td>\n",
       "      <td>280.0</td>\n",
       "      <td>252.392293</td>\n",
       "      <td>1585.833333</td>\n",
       "    </tr>\n",
       "    <tr>\n",
       "      <th>...</th>\n",
       "      <td>...</td>\n",
       "      <td>...</td>\n",
       "      <td>...</td>\n",
       "      <td>...</td>\n",
       "      <td>...</td>\n",
       "    </tr>\n",
       "    <tr>\n",
       "      <th>17154</th>\n",
       "      <td>1843.0</td>\n",
       "      <td>888.0</td>\n",
       "      <td>1012.0</td>\n",
       "      <td>870.905293</td>\n",
       "      <td>5420.433333</td>\n",
       "    </tr>\n",
       "    <tr>\n",
       "      <th>17155</th>\n",
       "      <td>512.0</td>\n",
       "      <td>300.0</td>\n",
       "      <td>320.0</td>\n",
       "      <td>277.499026</td>\n",
       "      <td>1694.566667</td>\n",
       "    </tr>\n",
       "    <tr>\n",
       "      <th>17156</th>\n",
       "      <td>295.0</td>\n",
       "      <td>116.0</td>\n",
       "      <td>167.0</td>\n",
       "      <td>151.907215</td>\n",
       "      <td>876.666667</td>\n",
       "    </tr>\n",
       "    <tr>\n",
       "      <th>17157</th>\n",
       "      <td>324.0</td>\n",
       "      <td>146.0</td>\n",
       "      <td>134.0</td>\n",
       "      <td>129.792095</td>\n",
       "      <td>921.966667</td>\n",
       "    </tr>\n",
       "    <tr>\n",
       "      <th>17158</th>\n",
       "      <td>191.0</td>\n",
       "      <td>79.0</td>\n",
       "      <td>72.0</td>\n",
       "      <td>75.752360</td>\n",
       "      <td>536.200000</td>\n",
       "    </tr>\n",
       "  </tbody>\n",
       "</table>\n",
       "<p>16995 rows × 5 columns</p>\n",
       "</div>"
      ],
      "text/plain": [
       "       Population  Households  Total beadrooms  Bedroom prediction  \\\n",
       "0           322.0       126.0            129.0          126.119103   \n",
       "1          2401.0      1138.0           1106.0          976.821318   \n",
       "2           496.0       177.0            190.0          182.076504   \n",
       "3           558.0       219.0            235.0          219.488945   \n",
       "4           565.0       259.0            280.0          252.392293   \n",
       "...           ...         ...              ...                 ...   \n",
       "17154      1843.0       888.0           1012.0          870.905293   \n",
       "17155       512.0       300.0            320.0          277.499026   \n",
       "17156       295.0       116.0            167.0          151.907215   \n",
       "17157       324.0       146.0            134.0          129.792095   \n",
       "17158       191.0        79.0             72.0           75.752360   \n",
       "\n",
       "       Test prediction  \n",
       "0           870.400000  \n",
       "1          6800.366667  \n",
       "2          1393.033333  \n",
       "3          1385.933333  \n",
       "4          1585.833333  \n",
       "...                ...  \n",
       "17154      5420.433333  \n",
       "17155      1694.566667  \n",
       "17156       876.666667  \n",
       "17157       921.966667  \n",
       "17158       536.200000  \n",
       "\n",
       "[16995 rows x 5 columns]"
      ]
     },
     "execution_count": 29,
     "metadata": {},
     "output_type": "execute_result"
    }
   ],
   "source": [
    "prediction['Test prediction'] = get_predictions(test_model, x_train)\n",
    "\n",
    "prediction.head(16995)"
   ]
  },
  {
   "cell_type": "code",
   "execution_count": 30,
   "id": "d5e6e209",
   "metadata": {},
   "outputs": [
    {
     "data": {
      "text/plain": [
       "2709.0451736569926"
      ]
     },
     "execution_count": 30,
     "metadata": {},
     "output_type": "execute_result"
    }
   ],
   "source": [
    "mean_absolute_error(prediction['Test prediction'], y_train)"
   ]
  },
  {
   "cell_type": "code",
   "execution_count": 33,
   "id": "bca2f590",
   "metadata": {},
   "outputs": [],
   "source": [
    "from numpy.linalg import inv\n",
    "\n",
    "def get_best_model(X,Y):\n",
    "    (n,p_minus_one) =X.shape\n",
    "    p = p_minus_one + 1\n",
    "    new_X = np.ones(shape=(n,p))\n",
    "    new_X[:,1:] = X\n",
    "    \n",
    "    return np.dot(np.dot(inv(np.dot(new_X.T, new_X)),new_X.T),Y)"
   ]
  },
  {
   "cell_type": "code",
   "execution_count": 35,
   "id": "72453f12",
   "metadata": {
    "scrolled": true
   },
   "outputs": [
    {
     "data": {
      "text/html": [
       "<div>\n",
       "<style scoped>\n",
       "    .dataframe tbody tr th:only-of-type {\n",
       "        vertical-align: middle;\n",
       "    }\n",
       "\n",
       "    .dataframe tbody tr th {\n",
       "        vertical-align: top;\n",
       "    }\n",
       "\n",
       "    .dataframe thead th {\n",
       "        text-align: right;\n",
       "    }\n",
       "</style>\n",
       "<table border=\"1\" class=\"dataframe\">\n",
       "  <thead>\n",
       "    <tr style=\"text-align: right;\">\n",
       "      <th></th>\n",
       "      <th>Population</th>\n",
       "      <th>Households</th>\n",
       "      <th>Total beadrooms</th>\n",
       "      <th>Bedroom prediction</th>\n",
       "      <th>Test prediction</th>\n",
       "      <th>Best Model</th>\n",
       "    </tr>\n",
       "  </thead>\n",
       "  <tbody>\n",
       "    <tr>\n",
       "      <th>0</th>\n",
       "      <td>322.0</td>\n",
       "      <td>126.0</td>\n",
       "      <td>129.0</td>\n",
       "      <td>126.119103</td>\n",
       "      <td>870.400000</td>\n",
       "      <td>126.119103</td>\n",
       "    </tr>\n",
       "    <tr>\n",
       "      <th>1</th>\n",
       "      <td>2401.0</td>\n",
       "      <td>1138.0</td>\n",
       "      <td>1106.0</td>\n",
       "      <td>976.821318</td>\n",
       "      <td>6800.366667</td>\n",
       "      <td>976.821318</td>\n",
       "    </tr>\n",
       "    <tr>\n",
       "      <th>2</th>\n",
       "      <td>496.0</td>\n",
       "      <td>177.0</td>\n",
       "      <td>190.0</td>\n",
       "      <td>182.076504</td>\n",
       "      <td>1393.033333</td>\n",
       "      <td>182.076504</td>\n",
       "    </tr>\n",
       "    <tr>\n",
       "      <th>3</th>\n",
       "      <td>558.0</td>\n",
       "      <td>219.0</td>\n",
       "      <td>235.0</td>\n",
       "      <td>219.488945</td>\n",
       "      <td>1385.933333</td>\n",
       "      <td>219.488945</td>\n",
       "    </tr>\n",
       "    <tr>\n",
       "      <th>4</th>\n",
       "      <td>565.0</td>\n",
       "      <td>259.0</td>\n",
       "      <td>280.0</td>\n",
       "      <td>252.392293</td>\n",
       "      <td>1585.833333</td>\n",
       "      <td>252.392293</td>\n",
       "    </tr>\n",
       "    <tr>\n",
       "      <th>...</th>\n",
       "      <td>...</td>\n",
       "      <td>...</td>\n",
       "      <td>...</td>\n",
       "      <td>...</td>\n",
       "      <td>...</td>\n",
       "      <td>...</td>\n",
       "    </tr>\n",
       "    <tr>\n",
       "      <th>20635</th>\n",
       "      <td>845.0</td>\n",
       "      <td>330.0</td>\n",
       "      <td>374.0</td>\n",
       "      <td>340.511380</td>\n",
       "      <td>1972.166667</td>\n",
       "      <td>340.511380</td>\n",
       "    </tr>\n",
       "    <tr>\n",
       "      <th>20636</th>\n",
       "      <td>356.0</td>\n",
       "      <td>114.0</td>\n",
       "      <td>150.0</td>\n",
       "      <td>144.045819</td>\n",
       "      <td>826.700000</td>\n",
       "      <td>144.045819</td>\n",
       "    </tr>\n",
       "    <tr>\n",
       "      <th>20637</th>\n",
       "      <td>1007.0</td>\n",
       "      <td>433.0</td>\n",
       "      <td>485.0</td>\n",
       "      <td>432.124675</td>\n",
       "      <td>2498.066667</td>\n",
       "      <td>432.124675</td>\n",
       "    </tr>\n",
       "    <tr>\n",
       "      <th>20638</th>\n",
       "      <td>741.0</td>\n",
       "      <td>349.0</td>\n",
       "      <td>409.0</td>\n",
       "      <td>358.557702</td>\n",
       "      <td>1956.533333</td>\n",
       "      <td>358.557702</td>\n",
       "    </tr>\n",
       "    <tr>\n",
       "      <th>20639</th>\n",
       "      <td>1387.0</td>\n",
       "      <td>530.0</td>\n",
       "      <td>616.0</td>\n",
       "      <td>553.630550</td>\n",
       "      <td>3263.233333</td>\n",
       "      <td>553.630550</td>\n",
       "    </tr>\n",
       "  </tbody>\n",
       "</table>\n",
       "<p>20433 rows × 6 columns</p>\n",
       "</div>"
      ],
      "text/plain": [
       "       Population  Households  Total beadrooms  Bedroom prediction  \\\n",
       "0           322.0       126.0            129.0          126.119103   \n",
       "1          2401.0      1138.0           1106.0          976.821318   \n",
       "2           496.0       177.0            190.0          182.076504   \n",
       "3           558.0       219.0            235.0          219.488945   \n",
       "4           565.0       259.0            280.0          252.392293   \n",
       "...           ...         ...              ...                 ...   \n",
       "20635       845.0       330.0            374.0          340.511380   \n",
       "20636       356.0       114.0            150.0          144.045819   \n",
       "20637      1007.0       433.0            485.0          432.124675   \n",
       "20638       741.0       349.0            409.0          358.557702   \n",
       "20639      1387.0       530.0            616.0          553.630550   \n",
       "\n",
       "       Test prediction  Best Model  \n",
       "0           870.400000  126.119103  \n",
       "1          6800.366667  976.821318  \n",
       "2          1393.033333  182.076504  \n",
       "3          1385.933333  219.488945  \n",
       "4          1585.833333  252.392293  \n",
       "...                ...         ...  \n",
       "20635      1972.166667  340.511380  \n",
       "20636       826.700000  144.045819  \n",
       "20637      2498.066667  432.124675  \n",
       "20638      1956.533333  358.557702  \n",
       "20639      3263.233333  553.630550  \n",
       "\n",
       "[20433 rows x 6 columns]"
      ]
     },
     "execution_count": 35,
     "metadata": {},
     "output_type": "execute_result"
    }
   ],
   "source": [
    "best_model = get_best_model(x_train,y_train)\n",
    "\n",
    "prediction['Best Model'] = get_predictions(best_model,x_train)\n",
    "\n",
    "\n",
    "prediction"
   ]
  },
  {
   "cell_type": "code",
   "execution_count": 37,
   "id": "f4f36605",
   "metadata": {},
   "outputs": [],
   "source": [
    "import pickle"
   ]
  },
  {
   "cell_type": "code",
   "execution_count": 45,
   "id": "933c876c",
   "metadata": {},
   "outputs": [],
   "source": [
    "with open('California Housing Trains','wb') as f:\n",
    "    pickle.dump(sk,f)\n"
   ]
  }
 ],
 "metadata": {
  "kernelspec": {
   "display_name": "Python 3 (ipykernel)",
   "language": "python",
   "name": "python3"
  },
  "language_info": {
   "codemirror_mode": {
    "name": "ipython",
    "version": 3
   },
   "file_extension": ".py",
   "mimetype": "text/x-python",
   "name": "python",
   "nbconvert_exporter": "python",
   "pygments_lexer": "ipython3",
   "version": "3.11.5"
  }
 },
 "nbformat": 4,
 "nbformat_minor": 5
}
